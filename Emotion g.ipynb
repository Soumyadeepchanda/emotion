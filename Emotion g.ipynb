{
 "cells": [
  {
   "cell_type": "code",
   "execution_count": 101,
   "metadata": {},
   "outputs": [
    {
     "name": "stdout",
     "output_type": "stream",
     "text": [
      "Requirement already satisfied: scikeras in c:\\users\\soumyadeep\\anaconda3\\lib\\site-packages (0.12.0)\n",
      "Requirement already satisfied: packaging>=0.21 in c:\\users\\soumyadeep\\anaconda3\\lib\\site-packages (from scikeras) (23.1)\n",
      "Requirement already satisfied: scikit-learn>=1.0.0 in c:\\users\\soumyadeep\\anaconda3\\lib\\site-packages (from scikeras) (1.2.2)\n",
      "Requirement already satisfied: tensorflow-io-gcs-filesystem<0.32,>=0.23.1 in c:\\users\\soumyadeep\\anaconda3\\lib\\site-packages (from scikeras) (0.31.0)\n",
      "Requirement already satisfied: numpy>=1.17.3 in c:\\users\\soumyadeep\\anaconda3\\lib\\site-packages (from scikit-learn>=1.0.0->scikeras) (1.26.4)\n",
      "Requirement already satisfied: scipy>=1.3.2 in c:\\users\\soumyadeep\\anaconda3\\lib\\site-packages (from scikit-learn>=1.0.0->scikeras) (1.11.4)\n",
      "Requirement already satisfied: joblib>=1.1.1 in c:\\users\\soumyadeep\\anaconda3\\lib\\site-packages (from scikit-learn>=1.0.0->scikeras) (1.2.0)\n",
      "Requirement already satisfied: threadpoolctl>=2.0.0 in c:\\users\\soumyadeep\\anaconda3\\lib\\site-packages (from scikit-learn>=1.0.0->scikeras) (2.2.0)\n",
      "Note: you may need to restart the kernel to use updated packages.\n"
     ]
    }
   ],
   "source": [
    "pip install scikeras"
   ]
  },
  {
   "cell_type": "code",
   "execution_count": 102,
   "metadata": {
    "colab": {
     "base_uri": "https://localhost:8080/",
     "height": 350
    },
    "executionInfo": {
     "elapsed": 4431,
     "status": "error",
     "timestamp": 1710574194295,
     "user": {
      "displayName": "1368_SOUMYADEEP CHANDA",
      "userId": "01110655890450930820"
     },
     "user_tz": -330
    },
    "id": "RWJ6UOOHtQ6k",
    "outputId": "3732262f-0f34-443c-910a-00f513b7f92f"
   },
   "outputs": [],
   "source": [
    "import os\n",
    "import numpy as np\n",
    "import matplotlib.pyplot as plt\n",
    "import tensorflow as tf\n",
    "from tensorflow.keras.models import Sequential\n",
    "from tensorflow.keras.layers import Conv2D, MaxPooling2D, Flatten, Dense, Dropout\n",
    "from tensorflow.keras.preprocessing.image import ImageDataGenerator\n",
    "from tensorflow.keras.preprocessing import image\n",
    "import matplotlib.image as mpimg\n",
    "from scikeras.wrappers import KerasClassifier\n",
    "from tensorflow.keras.callbacks import EarlyStopping\n",
    "from scipy.stats import reciprocal\n",
    "from sklearn.model_selection import RandomizedSearchCV"
   ]
  },
  {
   "cell_type": "code",
   "execution_count": 103,
   "metadata": {
    "executionInfo": {
     "elapsed": 33,
     "status": "aborted",
     "timestamp": 1710574194296,
     "user": {
      "displayName": "1368_SOUMYADEEP CHANDA",
      "userId": "01110655890450930820"
     },
     "user_tz": -330
    },
    "id": "8d_ZFH8gICnx"
   },
   "outputs": [
    {
     "name": "stdout",
     "output_type": "stream",
     "text": [
      "2.16.1\n"
     ]
    }
   ],
   "source": [
    "print(tf.__version__)"
   ]
  },
  {
   "cell_type": "code",
   "execution_count": 104,
   "metadata": {
    "executionInfo": {
     "elapsed": 34,
     "status": "aborted",
     "timestamp": 1710574194297,
     "user": {
      "displayName": "1368_SOUMYADEEP CHANDA",
      "userId": "01110655890450930820"
     },
     "user_tz": -330
    },
    "id": "QldZqjg2tQ-s"
   },
   "outputs": [],
   "source": [
    "# Define directories for training and testing data\n",
    "base_dir = 'archive'\n",
    "train_dir = os.path.join(base_dir, 'train')\n",
    "test_dir = os.path.join(base_dir, 'test')"
   ]
  },
  {
   "cell_type": "code",
   "execution_count": 105,
   "metadata": {
    "executionInfo": {
     "elapsed": 33,
     "status": "aborted",
     "timestamp": 1710574194297,
     "user": {
      "displayName": "1368_SOUMYADEEP CHANDA",
      "userId": "01110655890450930820"
     },
     "user_tz": -330
    },
    "id": "Yi_CDsI2tRBt"
   },
   "outputs": [],
   "source": [
    "# Define image dimensions and batch size\n",
    "img_width, img_height = 32,32\n",
    "batch_size = 16"
   ]
  },
  {
   "cell_type": "code",
   "execution_count": 106,
   "metadata": {
    "executionInfo": {
     "elapsed": 34,
     "status": "aborted",
     "timestamp": 1710574194298,
     "user": {
      "displayName": "1368_SOUMYADEEP CHANDA",
      "userId": "01110655890450930820"
     },
     "user_tz": -330
    },
    "id": "o64WnLfYtREX"
   },
   "outputs": [],
   "source": [
    "# Create ImageDataGenerator for training and testing data\n",
    "train_datagen = ImageDataGenerator(rescale=1./255)\n",
    "test_datagen = ImageDataGenerator(rescale=1./255)"
   ]
  },
  {
   "cell_type": "code",
   "execution_count": 107,
   "metadata": {
    "executionInfo": {
     "elapsed": 33,
     "status": "aborted",
     "timestamp": 1710574194298,
     "user": {
      "displayName": "1368_SOUMYADEEP CHANDA",
      "userId": "01110655890450930820"
     },
     "user_tz": -330
    },
    "id": "Pp4qrMc-tRG8"
   },
   "outputs": [
    {
     "name": "stdout",
     "output_type": "stream",
     "text": [
      "Found 24176 images belonging to 5 classes.\n",
      "Found 6043 images belonging to 5 classes.\n"
     ]
    }
   ],
   "source": [
    "# Generate training and testing datasets\n",
    "train_generator = train_datagen.flow_from_directory(\n",
    "    train_dir,\n",
    "    target_size=(img_width, img_height),\n",
    "    batch_size=batch_size,\n",
    "    class_mode='categorical',\n",
    "    color_mode='grayscale')\n",
    "\n",
    "test_generator = test_datagen.flow_from_directory(\n",
    "    test_dir,\n",
    "    target_size=(img_width, img_height),\n",
    "    batch_size=batch_size,\n",
    "    class_mode='categorical',\n",
    "    color_mode='grayscale')"
   ]
  },
  {
   "cell_type": "code",
   "execution_count": 108,
   "metadata": {
    "executionInfo": {
     "elapsed": 34,
     "status": "aborted",
     "timestamp": 1710574194299,
     "user": {
      "displayName": "1368_SOUMYADEEP CHANDA",
      "userId": "01110655890450930820"
     },
     "user_tz": -330
    },
    "id": "7Y2JDASttRJi"
   },
   "outputs": [
    {
     "data": {
      "image/png": "[encoded data removed]",
      "text/plain": [
       "<Figure size 1200x800 with 5 Axes>"
      ]
     },
     "metadata": {},
     "output_type": "display_data"
    }
   ],
   "source": [
    "# Display sample images for different emotions\n",
    "emotions = ['angry', 'happy', 'neutral', 'sad', 'surprised']\n",
    "\n",
    "plt.figure(figsize=(12, 8))\n",
    "for i, emotion in enumerate(emotions, start=1):\n",
    "    img_path = os.path.join(train_dir, emotion, os.listdir(os.path.join(train_dir, emotion))[0])\n",
    "    img = mpimg.imread(img_path)\n",
    "    plt.subplot(2, 4, i)\n",
    "    plt.imshow(img, cmap='gray')\n",
    "    plt.title(emotion)\n",
    "    plt.axis('off')\n",
    "\n",
    "plt.show()"
   ]
  },
  {
   "cell_type": "code",
   "execution_count": 109,
   "metadata": {
    "executionInfo": {
     "elapsed": 33,
     "status": "aborted",
     "timestamp": 1710574194299,
     "user": {
      "displayName": "1368_SOUMYADEEP CHANDA",
      "userId": "01110655890450930820"
     },
     "user_tz": -330
    },
    "id": "_8eNDwI2tRMF"
   },
   "outputs": [],
   "source": [
    "def create_model(n_hidden=1, n_neurons=30, learning_rate=3e-3, input_shape=[32, 32, 1]):\n",
    "    model = Sequential()\n",
    "    model.add(Conv2D(32, (3, 3), activation='relu', input_shape=input_shape))\n",
    "    model.add(MaxPooling2D((2, 2)))\n",
    "    for layer in range(n_hidden):\n",
    "        model.add(Conv2D(n_neurons, (3, 3), activation='relu'))\n",
    "        model.add(MaxPooling2D((2, 2)))\n",
    "    model.add(Flatten())\n",
    "    model.add(Dense(128, activation='relu'))\n",
    "    model.add(Dropout(0.5))\n",
    "    model.add(Dense(5, activation='softmax'))\n",
    "    optimizer = Adam(learning_rate=learning_rate)\n",
    "    model.compile(loss='categorical_crossentropy', optimizer=optimizer, metrics=['accuracy'])\n",
    "    return model"
   ]
  },
  {
   "cell_type": "code",
   "execution_count": 110,
   "metadata": {
    "executionInfo": {
     "elapsed": 33,
     "status": "aborted",
     "timestamp": 1710574194300,
     "user": {
      "displayName": "1368_SOUMYADEEP CHANDA",
      "userId": "01110655890450930820"
     },
     "user_tz": -330
    },
    "id": "17HKzrXXBaF2"
   },
   "outputs": [],
   "source": [
    "# Define the hyperparameter search space\n",
    "param_distribs = {\n",
    "    \"n_hidden\": [0, 1, 2, 3],\n",
    "    \"n_neurons\": list(range(1, 100)),\n",
    "    \"learning_rate\": reciprocal(3e-4, 3e-2)\n",
    "}"
   ]
  },
  {
   "cell_type": "code",
   "execution_count": 111,
   "metadata": {},
   "outputs": [],
   "source": [
    "# Perform randomized search cross-validation\n",
    "rnd_search_cv = RandomizedSearchCV(KerasClassifier(build_fn=create_model, epochs=10, batch_size=32, verbose=0), param_distribs, n_iter=10, cv=3)"
   ]
  },
  {
   "cell_type": "code",
   "execution_count": 112,
   "metadata": {},
   "outputs": [
    {
     "ename": "ValueError",
     "evalue": "Found input variables with inconsistent numbers of samples: [1511, 378]",
     "output_type": "error",
     "traceback": [
      "\u001b[1;31m---------------------------------------------------------------------------\u001b[0m",
      "\u001b[1;31mValueError\u001b[0m                                Traceback (most recent call last)",
      "Cell \u001b[1;32mIn[112], line 1\u001b[0m\n\u001b[1;32m----> 1\u001b[0m rnd_search_cv\u001b[38;5;241m.\u001b[39mfit(train_generator, test_generator, epochs\u001b[38;5;241m=\u001b[39m\u001b[38;5;241m100\u001b[39m, validation_data\u001b[38;5;241m=\u001b[39m(train_generator, test_generator))\n",
      "File \u001b[1;32m~\\anaconda3\\Lib\\site-packages\\sklearn\\model_selection\\_search.py:782\u001b[0m, in \u001b[0;36mBaseSearchCV.fit\u001b[1;34m(self, X, y, groups, **fit_params)\u001b[0m\n\u001b[0;32m    779\u001b[0m     \u001b[38;5;28mself\u001b[39m\u001b[38;5;241m.\u001b[39m_check_refit_for_multimetric(scorers)\n\u001b[0;32m    780\u001b[0m     refit_metric \u001b[38;5;241m=\u001b[39m \u001b[38;5;28mself\u001b[39m\u001b[38;5;241m.\u001b[39mrefit\n\u001b[1;32m--> 782\u001b[0m X, y, groups \u001b[38;5;241m=\u001b[39m indexable(X, y, groups)\n\u001b[0;32m    783\u001b[0m fit_params \u001b[38;5;241m=\u001b[39m _check_fit_params(X, fit_params)\n\u001b[0;32m    785\u001b[0m cv_orig \u001b[38;5;241m=\u001b[39m check_cv(\u001b[38;5;28mself\u001b[39m\u001b[38;5;241m.\u001b[39mcv, y, classifier\u001b[38;5;241m=\u001b[39mis_classifier(estimator))\n",
      "File \u001b[1;32m~\\anaconda3\\Lib\\site-packages\\sklearn\\utils\\validation.py:443\u001b[0m, in \u001b[0;36mindexable\u001b[1;34m(*iterables)\u001b[0m\n\u001b[0;32m    424\u001b[0m \u001b[38;5;250m\u001b[39m\u001b[38;5;124;03m\"\"\"Make arrays indexable for cross-validation.\u001b[39;00m\n\u001b[0;32m    425\u001b[0m \n\u001b[0;32m    426\u001b[0m \u001b[38;5;124;03mChecks consistent length, passes through None, and ensures that everything\u001b[39;00m\n\u001b[1;32m   (...)\u001b[0m\n\u001b[0;32m    439\u001b[0m \u001b[38;5;124;03m    sparse matrix, or dataframe) or `None`.\u001b[39;00m\n\u001b[0;32m    440\u001b[0m \u001b[38;5;124;03m\"\"\"\u001b[39;00m\n\u001b[0;32m    442\u001b[0m result \u001b[38;5;241m=\u001b[39m [_make_indexable(X) \u001b[38;5;28;01mfor\u001b[39;00m X \u001b[38;5;129;01min\u001b[39;00m iterables]\n\u001b[1;32m--> 443\u001b[0m check_consistent_length(\u001b[38;5;241m*\u001b[39mresult)\n\u001b[0;32m    444\u001b[0m \u001b[38;5;28;01mreturn\u001b[39;00m result\n",
      "File \u001b[1;32m~\\anaconda3\\Lib\\site-packages\\sklearn\\utils\\validation.py:397\u001b[0m, in \u001b[0;36mcheck_consistent_length\u001b[1;34m(*arrays)\u001b[0m\n\u001b[0;32m    395\u001b[0m uniques \u001b[38;5;241m=\u001b[39m np\u001b[38;5;241m.\u001b[39munique(lengths)\n\u001b[0;32m    396\u001b[0m \u001b[38;5;28;01mif\u001b[39;00m \u001b[38;5;28mlen\u001b[39m(uniques) \u001b[38;5;241m>\u001b[39m \u001b[38;5;241m1\u001b[39m:\n\u001b[1;32m--> 397\u001b[0m     \u001b[38;5;28;01mraise\u001b[39;00m \u001b[38;5;167;01mValueError\u001b[39;00m(\n\u001b[0;32m    398\u001b[0m         \u001b[38;5;124m\"\u001b[39m\u001b[38;5;124mFound input variables with inconsistent numbers of samples: \u001b[39m\u001b[38;5;132;01m%r\u001b[39;00m\u001b[38;5;124m\"\u001b[39m\n\u001b[0;32m    399\u001b[0m         \u001b[38;5;241m%\u001b[39m [\u001b[38;5;28mint\u001b[39m(l) \u001b[38;5;28;01mfor\u001b[39;00m l \u001b[38;5;129;01min\u001b[39;00m lengths]\n\u001b[0;32m    400\u001b[0m     )\n",
      "\u001b[1;31mValueError\u001b[0m: Found input variables with inconsistent numbers of samples: [1511, 378]"
     ]
    }
   ],
   "source": [
    "rnd_search_cv.fit(train_generator, test_generator, epochs=100, validation_data=(train_generator, test_generator))"
   ]
  },
  {
   "cell_type": "code",
   "execution_count": null,
   "metadata": {
    "executionInfo": {
     "elapsed": 33,
     "status": "aborted",
     "timestamp": 1710574194303,
     "user": {
      "displayName": "1368_SOUMYADEEP CHANDA",
      "userId": "01110655890450930820"
     },
     "user_tz": -330
    },
    "id": "yG2iI1DIw_-S"
   },
   "outputs": [],
   "source": [
    "# Evaluate the best model\n",
    "loss, accuracy = best_model.evaluate(test_generator)\n",
    "print(\"Test Loss:\", loss)\n",
    "print(\"Test Accuracy:\", accuracy)\n",
    "\n",
    "# Plotting loss and accuracy\n",
    "plt.plot(best_model.history.history['loss'], label='train loss')\n",
    "plt.plot(best_model.history.history['val_loss'], label='validation loss')\n",
    "plt.legend()\n",
    "plt.show()\n",
    "plt.plot(best_model.history.history['accuracy'], label='train accuracy')\n",
    "plt.plot(best_model.history.history['val_accuracy'], label='validation accuracy')\n",
    "plt.legend()\n",
    "plt.show()"
   ]
  },
  {
   "cell_type": "code",
   "execution_count": null,
   "metadata": {
    "executionInfo": {
     "elapsed": 31,
     "status": "aborted",
     "timestamp": 1710574194304,
     "user": {
      "displayName": "1368_SOUMYADEEP CHANDA",
      "userId": "01110655890450930820"
     },
     "user_tz": -330
    },
    "id": "KPs7Q8-txAA6"
   },
   "outputs": [],
   "source": [
    "def predict_emotion(image_path):\n",
    "    img = image.load_img(image_path, target_size=(img_width, img_height), color_mode='grayscale')\n",
    "    img = image.img_to_array(img)\n",
    "    img = np.expand_dims(img, axis=0)\n",
    "    prediction = model.predict(img)\n",
    "    emotion_labels = ['angry', 'happy', 'neutral', 'sad', 'surprised']\n",
    "    predicted_class = np.argmax(prediction)\n",
    "    predicted_emotion = emotion_labels[predicted_class]\n",
    "    return predicted_emotion"
   ]
  },
  {
   "cell_type": "code",
   "execution_count": null,
   "metadata": {
    "executionInfo": {
     "elapsed": 30,
     "status": "aborted",
     "timestamp": 1710574194304,
     "user": {
      "displayName": "1368_SOUMYADEEP CHANDA",
      "userId": "01110655890450930820"
     },
     "user_tz": -330
    },
    "id": "f3-g-8wCxADR"
   },
   "outputs": [],
   "source": [
    "# Load and display the specified image\n",
    "img = tf.keras.preprocessing.image.load_img('/content/drive/MyDrive/archive/test/happy/im1014.png', target_size=(img_width, img_height), color_mode='grayscale')\n",
    "img_array = tf.keras.preprocessing.image.img_to_array(img)\n",
    "img_array /= 255.0  # Normalize pixel values to [0, 1]\n",
    "# Display the image\n",
    "plt.imshow(img)\n",
    "plt.axis('off')\n",
    "plt.show()\n",
    "\n",
    "# Predict emotion for the specified image\n",
    "prediction = predict_emotion('/content/drive/MyDrive/archive/test/happy/im1014.png')\n",
    "print(\"Predicted Emotion:\", prediction)"
   ]
  },
  {
   "cell_type": "code",
   "execution_count": null,
   "metadata": {
    "executionInfo": {
     "elapsed": 30,
     "status": "aborted",
     "timestamp": 1710574194304,
     "user": {
      "displayName": "1368_SOUMYADEEP CHANDA",
      "userId": "01110655890450930820"
     },
     "user_tz": -330
    },
    "id": "zyC7TX_txAFy"
   },
   "outputs": [],
   "source": [
    "model.save('emotion_detection_model.h5')"
   ]
  },
  {
   "cell_type": "code",
   "execution_count": null,
   "metadata": {
    "executionInfo": {
     "elapsed": 31,
     "status": "aborted",
     "timestamp": 1710574194305,
     "user": {
      "displayName": "1368_SOUMYADEEP CHANDA",
      "userId": "01110655890450930820"
     },
     "user_tz": -330
    },
    "id": "HxHtV8lexAIi"
   },
   "outputs": [],
   "source": [
    "import tensorflow as tf\n",
    "from tensorflow.keras.models import load_model\n",
    "\n",
    "# Load the pre-trained Keras model\n",
    "model = load_model('emotion_detection_model.h5')\n",
    "\n",
    "# Convert the Keras model to TensorFlow Lite format\n",
    "converter = tf.lite.TFLiteConverter.from_keras_model(model)\n",
    "\n",
    "# Set optimization flags for smaller model size\n",
    "converter.optimizations = [tf.lite.Optimize.DEFAULT]\n",
    "\n",
    "# Convert the model\n",
    "tflite_model = converter.convert()\n",
    "\n",
    "# Save the converted TensorFlow Lite model\n",
    "with open('emotion_detection_model.tflite', 'wb') as f:\n",
    "    f.write(tflite_model)"
   ]
  },
  {
   "cell_type": "code",
   "execution_count": null,
   "metadata": {
    "executionInfo": {
     "elapsed": 30,
     "status": "aborted",
     "timestamp": 1710574194305,
     "user": {
      "displayName": "1368_SOUMYADEEP CHANDA",
      "userId": "01110655890450930820"
     },
     "user_tz": -330
    },
    "id": "vUsYxtoTSZ73"
   },
   "outputs": [],
   "source": [
    "%pip install opencv-python-headless"
   ]
  },
  {
   "cell_type": "code",
   "execution_count": null,
   "metadata": {
    "executionInfo": {
     "elapsed": 31,
     "status": "aborted",
     "timestamp": 1710574194306,
     "user": {
      "displayName": "1368_SOUMYADEEP CHANDA",
      "userId": "01110655890450930820"
     },
     "user_tz": -330
    },
    "id": "J0qUaVyAxALK"
   },
   "outputs": [],
   "source": [
    "from IPython.display import display, Javascript, Image\n",
    "from google.colab.output import eval_js\n",
    "import numpy as np\n",
    "import cv2\n",
    "from tensorflow.keras.models import load_model\n",
    "from tensorflow.keras.preprocessing import image\n",
    "from base64 import b64decode\n",
    "\n",
    "# Load the emotion detection model\n",
    "model = load_model('emotion_detection_model.h5')\n",
    "\n",
    "# Define emotion labels\n",
    "emotion_labels = ['angry', 'happy', 'neutral', 'sad', 'surprised']\n",
    "\n",
    "# Function to convert the JavaScript object into an OpenCV image\n",
    "def js_to_image(js_reply):\n",
    "    \"\"\"\n",
    "    Params:\n",
    "            js_reply: JavaScript object containing image from webcam\n",
    "    Returns:\n",
    "            img: OpenCV BGR image\n",
    "    \"\"\"\n",
    "    # Decode base64 image\n",
    "    image_bytes = b64decode(js_reply.split(',')[1])\n",
    "    # Convert bytes to numpy array\n",
    "    jpg_as_np = np.frombuffer(image_bytes, dtype=np.uint8)\n",
    "    # Decode numpy array into OpenCV BGR image\n",
    "    img = cv2.imdecode(jpg_as_np, flags=1)\n",
    "\n",
    "    return img\n",
    "\n",
    "# JavaScript to properly create our live video stream using our webcam as input\n",
    "def take_photo(filename='photo.jpg', quality=0.8):\n",
    "    js = Javascript('''\n",
    "    async function takePhoto(quality) {\n",
    "        const div = document.createElement('div');\n",
    "        const capture = document.createElement('button');\n",
    "        capture.textContent = 'Capture';\n",
    "        div.appendChild(capture);\n",
    "\n",
    "        const video = document.createElement('video');\n",
    "        video.style.display = 'block';\n",
    "        const stream = await navigator.mediaDevices.getUserMedia({video: true});\n",
    "\n",
    "        document.body.appendChild(div);\n",
    "        div.appendChild(video);\n",
    "        video.srcObject = stream;\n",
    "        await video.play();\n",
    "\n",
    "        // Resize the output to fit the video element.\n",
    "        google.colab.output.setIframeHeight(document.documentElement.scrollHeight, true);\n",
    "\n",
    "        // Wait for Capture to be clicked.\n",
    "        await new Promise((resolve) => capture.onclick = resolve);\n",
    "\n",
    "        const canvas = document.createElement('canvas');\n",
    "        canvas.width = video.videoWidth;\n",
    "        canvas.height = video.videoHeight;\n",
    "        canvas.getContext('2d').drawImage(video, 0, 0);\n",
    "        stream.getVideoTracks()[0].stop();\n",
    "        div.remove();\n",
    "        return canvas.toDataURL('image/jpeg', quality);\n",
    "    }\n",
    "    ''')\n",
    "    display(js)\n",
    "    # get photo data\n",
    "    data = eval_js('takePhoto({})'.format(quality))\n",
    "    # get OpenCV format image\n",
    "    img = js_to_image(data)\n",
    "    if img is not None:\n",
    "        # save image\n",
    "        cv2.imwrite(filename, img)\n",
    "        print('Saved to {}'.format(filename))\n",
    "        return filename\n",
    "    else:\n",
    "        return None\n",
    "\n",
    "# Use the `take_photo` function to capture an image from the webcam\n",
    "try:\n",
    "    filename = take_photo() # you can pass the filename here if you want to choose it\n",
    "    if filename:\n",
    "        # Show the image which was just taken.\n",
    "        display(Image(filename))\n",
    "        # Predict the emotion on the captured image\n",
    "        emotion = predict_emotion(filename)\n",
    "        print(\"Predicted Emotion:\", emotion)\n",
    "except Exception as err:\n",
    "    # Errors will be thrown if the user does not have a webcam or if they do not\n",
    "    # allow the website to access it.\n",
    "    print(\"Error:\", str(err))\n",
    "\n",
    "# Now that we have the image, we can preprocess it and use our model to predict the emotion\n",
    "def predict_emotion(image_path):\n",
    "    img = image.load_img(image_path, target_size=(32, 32), color_mode='grayscale')\n",
    "    img = image.img_to_array(img)\n",
    "    img = np.expand_dims(img, axis=0)\n",
    "    img /= 255\n",
    "    prediction = model.predict(img)\n",
    "    emotion = emotion_labels[np.argmax(prediction)]\n",
    "    return emotion\n",
    "\n"
   ]
  },
  {
   "cell_type": "code",
   "execution_count": null,
   "metadata": {
    "executionInfo": {
     "elapsed": 31,
     "status": "aborted",
     "timestamp": 1710574194306,
     "user": {
      "displayName": "1368_SOUMYADEEP CHANDA",
      "userId": "01110655890450930820"
     },
     "user_tz": -330
    },
    "id": "Aq2UoF7GxANu"
   },
   "outputs": [],
   "source": []
  }
 ],
 "metadata": {
  "accelerator": "GPU",
  "colab": {
   "authorship_tag": "ABX9TyNUC9XGbzPetRyPlnGg9IC5",
   "gpuType": "T4",
   "provenance": []
  },
  "kernelspec": {
   "display_name": "Python 3 (ipykernel)",
   "language": "python",
   "name": "python3"
  },
  "language_info": {
   "codemirror_mode": {
    "name": "ipython",
    "version": 3
   },
   "file_extension": ".py",
   "mimetype": "text/x-python",
   "name": "python",
   "nbconvert_exporter": "python",
   "pygments_lexer": "ipython3",
   "version": "3.11.7"
  }
 },
 "nbformat": 4,
 "nbformat_minor": 4
}
